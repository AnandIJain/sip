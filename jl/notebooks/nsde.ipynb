{
 "cells": [
  {
   "cell_type": "code",
   "execution_count": 2,
   "metadata": {},
   "outputs": [],
   "source": [
    "using Flux, DiffEqFlux, StochasticDiffEq, Plots, DiffEqMonteCarlo, CSV, DataFrames"
   ]
  },
  {
   "cell_type": "code",
   "execution_count": 4,
   "metadata": {},
   "outputs": [
    {
     "name": "stderr",
     "output_type": "stream",
     "text": [
      "WARNING: replacing module Sips.\n"
     ]
    }
   ],
   "source": [
    "include(\"../sips.jl\")\n",
    "using .Sips"
   ]
  },
  {
   "cell_type": "code",
   "execution_count": 9,
   "metadata": {},
   "outputs": [
    {
     "name": "stderr",
     "output_type": "stream",
     "text": [
      "WARNING: replacing module Utils.\n"
     ]
    }
   ],
   "source": [
    "include(\"../utils.jl\")\n",
    "using .Utils"
   ]
  },
  {
   "cell_type": "code",
   "execution_count": 7,
   "metadata": {},
   "outputs": [
    {
     "data": {
      "text/plain": [
       "35-element Array{Symbol,1}:\n",
       " :sport          \n",
       " :league         \n",
       " :game_id        \n",
       " :a_team         \n",
       " :h_team         \n",
       " :cur_time       \n",
       " :lms_date       \n",
       " :lms_time       \n",
       " :quarter        \n",
       " :secs           \n",
       " :a_pts          \n",
       " :h_pts          \n",
       " :status         \n",
       " ⋮               \n",
       " :h_odds_ps      \n",
       " :a_deci_ps      \n",
       " :h_deci_ps      \n",
       " :a_hcap_ps      \n",
       " :h_hcap_ps      \n",
       " :a_odds_tot     \n",
       " :h_odds_tot     \n",
       " :a_deci_tot     \n",
       " :h_deci_tot     \n",
       " :a_hcap_tot     \n",
       " :h_hcap_tot     \n",
       " :game_start_time"
      ]
     },
     "execution_count": 7,
     "metadata": {},
     "output_type": "execute_result"
    }
   ],
   "source": [
    "df = Utils.odds_df(\"../../sips/gym_sip/data/static/nba2.csv\")\n",
    "# games = Utils.games_from_odds(df, )\n",
    "names(df)"
   ]
  },
  {
   "cell_type": "code",
   "execution_count": 11,
   "metadata": {},
   "outputs": [
    {
     "data": {
      "text/html": [
       "<p><b>GroupedDataFrame with 30 groups based on key: a_team</b></p><p><i>First Group (2697 rows): a_team = \"Sacramento Kings\"</i></p><table class=\"data-frame\"><thead><tr><th></th><th>sport</th><th>league</th><th>game_id</th><th>a_team</th><th>h_team</th><th>cur_time</th><th>lms_date</th></tr><tr><th></th><th>String</th><th>String</th><th>Int64</th><th>String</th><th>String</th><th>Float64</th><th>Dates…</th></tr></thead><tbody><tr><th>1</th><td>BASK</td><td>NBA</td><td>4253821</td><td>Sacramento Kings</td><td>Golden State Warriors</td><td>1.55078e9</td><td>2019-02-20</td></tr><tr><th>2</th><td>BASK</td><td>NBA</td><td>4253821</td><td>Sacramento Kings</td><td>Golden State Warriors</td><td>1.55078e9</td><td>2019-02-20</td></tr><tr><th>3</th><td>BASK</td><td>NBA</td><td>4253821</td><td>Sacramento Kings</td><td>Golden State Warriors</td><td>1.55078e9</td><td>2019-02-20</td></tr><tr><th>4</th><td>BASK</td><td>NBA</td><td>4253821</td><td>Sacramento Kings</td><td>Golden State Warriors</td><td>1.55078e9</td><td>2019-02-20</td></tr><tr><th>5</th><td>BASK</td><td>NBA</td><td>4253821</td><td>Sacramento Kings</td><td>Golden State Warriors</td><td>1.55078e9</td><td>2019-02-20</td></tr><tr><th>6</th><td>BASK</td><td>NBA</td><td>4253821</td><td>Sacramento Kings</td><td>Golden State Warriors</td><td>1.55078e9</td><td>2019-02-20</td></tr><tr><th>7</th><td>BASK</td><td>NBA</td><td>4253821</td><td>Sacramento Kings</td><td>Golden State Warriors</td><td>1.55078e9</td><td>2019-02-20</td></tr><tr><th>8</th><td>BASK</td><td>NBA</td><td>4253821</td><td>Sacramento Kings</td><td>Golden State Warriors</td><td>1.55078e9</td><td>2019-02-20</td></tr><tr><th>9</th><td>BASK</td><td>NBA</td><td>4253821</td><td>Sacramento Kings</td><td>Golden State Warriors</td><td>1.55078e9</td><td>2019-02-20</td></tr><tr><th>10</th><td>BASK</td><td>NBA</td><td>4253821</td><td>Sacramento Kings</td><td>Golden State Warriors</td><td>1.55078e9</td><td>2019-02-20</td></tr><tr><th>11</th><td>BASK</td><td>NBA</td><td>4253821</td><td>Sacramento Kings</td><td>Golden State Warriors</td><td>1.55078e9</td><td>2019-02-20</td></tr><tr><th>12</th><td>BASK</td><td>NBA</td><td>4253821</td><td>Sacramento Kings</td><td>Golden State Warriors</td><td>1.55078e9</td><td>2019-02-20</td></tr><tr><th>13</th><td>BASK</td><td>NBA</td><td>4253821</td><td>Sacramento Kings</td><td>Golden State Warriors</td><td>1.55078e9</td><td>2019-02-20</td></tr><tr><th>14</th><td>BASK</td><td>NBA</td><td>4253821</td><td>Sacramento Kings</td><td>Golden State Warriors</td><td>1.55078e9</td><td>2019-02-20</td></tr><tr><th>15</th><td>BASK</td><td>NBA</td><td>4253821</td><td>Sacramento Kings</td><td>Golden State Warriors</td><td>1.55079e9</td><td>2019-02-20</td></tr><tr><th>16</th><td>BASK</td><td>NBA</td><td>4253821</td><td>Sacramento Kings</td><td>Golden State Warriors</td><td>1.55079e9</td><td>2019-02-20</td></tr><tr><th>17</th><td>BASK</td><td>NBA</td><td>4253821</td><td>Sacramento Kings</td><td>Golden State Warriors</td><td>1.55079e9</td><td>2019-02-20</td></tr><tr><th>18</th><td>BASK</td><td>NBA</td><td>4253821</td><td>Sacramento Kings</td><td>Golden State Warriors</td><td>1.55079e9</td><td>2019-02-20</td></tr><tr><th>19</th><td>BASK</td><td>NBA</td><td>4253821</td><td>Sacramento Kings</td><td>Golden State Warriors</td><td>1.55079e9</td><td>2019-02-20</td></tr><tr><th>20</th><td>BASK</td><td>NBA</td><td>4253821</td><td>Sacramento Kings</td><td>Golden State Warriors</td><td>1.55079e9</td><td>2019-02-20</td></tr><tr><th>21</th><td>BASK</td><td>NBA</td><td>4253821</td><td>Sacramento Kings</td><td>Golden State Warriors</td><td>1.55079e9</td><td>2019-02-20</td></tr><tr><th>22</th><td>BASK</td><td>NBA</td><td>4253821</td><td>Sacramento Kings</td><td>Golden State Warriors</td><td>1.55079e9</td><td>2019-02-20</td></tr><tr><th>23</th><td>BASK</td><td>NBA</td><td>4253821</td><td>Sacramento Kings</td><td>Golden State Warriors</td><td>1.55079e9</td><td>2019-02-20</td></tr><tr><th>24</th><td>BASK</td><td>NBA</td><td>4253821</td><td>Sacramento Kings</td><td>Golden State Warriors</td><td>1.55079e9</td><td>2019-02-20</td></tr><tr><th>25</th><td>BASK</td><td>NBA</td><td>4253821</td><td>Sacramento Kings</td><td>Golden State Warriors</td><td>1.55079e9</td><td>2019-02-20</td></tr><tr><th>26</th><td>BASK</td><td>NBA</td><td>4253821</td><td>Sacramento Kings</td><td>Golden State Warriors</td><td>1.55079e9</td><td>2019-02-20</td></tr><tr><th>27</th><td>BASK</td><td>NBA</td><td>4253821</td><td>Sacramento Kings</td><td>Golden State Warriors</td><td>1.55079e9</td><td>2019-02-20</td></tr><tr><th>28</th><td>BASK</td><td>NBA</td><td>4253821</td><td>Sacramento Kings</td><td>Golden State Warriors</td><td>1.55079e9</td><td>2019-02-20</td></tr><tr><th>29</th><td>BASK</td><td>NBA</td><td>4253821</td><td>Sacramento Kings</td><td>Golden State Warriors</td><td>1.55079e9</td><td>2019-02-20</td></tr><tr><th>30</th><td>BASK</td><td>NBA</td><td>4253821</td><td>Sacramento Kings</td><td>Golden State Warriors</td><td>1.55079e9</td><td>2019-02-20</td></tr><tr><th>&vellip;</th><td>&vellip;</td><td>&vellip;</td><td>&vellip;</td><td>&vellip;</td><td>&vellip;</td><td>&vellip;</td><td>&vellip;</td></tr></tbody></table><p>&vellip;</p><p><i>Last Group (1628 rows): a_team = \"Toronto Raptors\"</i></p><table class=\"data-frame\"><thead><tr><th></th><th>sport</th><th>league</th><th>game_id</th><th>a_team</th><th>h_team</th><th>cur_time</th><th>lms_date</th></tr><tr><th></th><th>String</th><th>String</th><th>Int64</th><th>String</th><th>String</th><th>Float64</th><th>Dates…</th></tr></thead><tbody><tr><th>1</th><td>BASK</td><td>NBA</td><td>3976873</td><td>Toronto Raptors</td><td>Detroit Pistons</td><td>1.55158e9</td><td>0000-01-01</td></tr><tr><th>2</th><td>BASK</td><td>NBA</td><td>3976873</td><td>Toronto Raptors</td><td>Detroit Pistons</td><td>1.55158e9</td><td>2019-03-02</td></tr><tr><th>3</th><td>BASK</td><td>NBA</td><td>3976873</td><td>Toronto Raptors</td><td>Detroit Pistons</td><td>1.55158e9</td><td>2019-03-02</td></tr><tr><th>4</th><td>BASK</td><td>NBA</td><td>3976873</td><td>Toronto Raptors</td><td>Detroit Pistons</td><td>1.55158e9</td><td>2019-03-02</td></tr><tr><th>5</th><td>BASK</td><td>NBA</td><td>3976873</td><td>Toronto Raptors</td><td>Detroit Pistons</td><td>1.55158e9</td><td>2019-03-02</td></tr><tr><th>6</th><td>BASK</td><td>NBA</td><td>3976873</td><td>Toronto Raptors</td><td>Detroit Pistons</td><td>1.55158e9</td><td>2019-03-02</td></tr><tr><th>7</th><td>BASK</td><td>NBA</td><td>3976873</td><td>Toronto Raptors</td><td>Detroit Pistons</td><td>1.55158e9</td><td>2019-03-02</td></tr><tr><th>8</th><td>BASK</td><td>NBA</td><td>3976873</td><td>Toronto Raptors</td><td>Detroit Pistons</td><td>1.55158e9</td><td>2019-03-02</td></tr><tr><th>9</th><td>BASK</td><td>NBA</td><td>3976873</td><td>Toronto Raptors</td><td>Detroit Pistons</td><td>1.55158e9</td><td>2019-03-02</td></tr><tr><th>10</th><td>BASK</td><td>NBA</td><td>3976873</td><td>Toronto Raptors</td><td>Detroit Pistons</td><td>1.55159e9</td><td>2019-03-02</td></tr><tr><th>11</th><td>BASK</td><td>NBA</td><td>3976873</td><td>Toronto Raptors</td><td>Detroit Pistons</td><td>1.55159e9</td><td>2019-03-02</td></tr><tr><th>12</th><td>BASK</td><td>NBA</td><td>3976873</td><td>Toronto Raptors</td><td>Detroit Pistons</td><td>1.55159e9</td><td>2019-03-02</td></tr><tr><th>13</th><td>BASK</td><td>NBA</td><td>3976873</td><td>Toronto Raptors</td><td>Detroit Pistons</td><td>1.55159e9</td><td>2019-03-02</td></tr><tr><th>14</th><td>BASK</td><td>NBA</td><td>3976873</td><td>Toronto Raptors</td><td>Detroit Pistons</td><td>1.55159e9</td><td>2019-03-02</td></tr><tr><th>15</th><td>BASK</td><td>NBA</td><td>3976873</td><td>Toronto Raptors</td><td>Detroit Pistons</td><td>1.55159e9</td><td>2019-03-02</td></tr><tr><th>16</th><td>BASK</td><td>NBA</td><td>3976873</td><td>Toronto Raptors</td><td>Detroit Pistons</td><td>1.55159e9</td><td>2019-03-02</td></tr><tr><th>17</th><td>BASK</td><td>NBA</td><td>3976873</td><td>Toronto Raptors</td><td>Detroit Pistons</td><td>1.55159e9</td><td>2019-03-02</td></tr><tr><th>18</th><td>BASK</td><td>NBA</td><td>3976873</td><td>Toronto Raptors</td><td>Detroit Pistons</td><td>1.55159e9</td><td>2019-03-02</td></tr><tr><th>19</th><td>BASK</td><td>NBA</td><td>3976873</td><td>Toronto Raptors</td><td>Detroit Pistons</td><td>1.5516e9</td><td>2019-03-02</td></tr><tr><th>20</th><td>BASK</td><td>NBA</td><td>3976873</td><td>Toronto Raptors</td><td>Detroit Pistons</td><td>1.5516e9</td><td>2019-03-02</td></tr><tr><th>21</th><td>BASK</td><td>NBA</td><td>3976873</td><td>Toronto Raptors</td><td>Detroit Pistons</td><td>1.5516e9</td><td>2019-03-02</td></tr><tr><th>22</th><td>BASK</td><td>NBA</td><td>3976873</td><td>Toronto Raptors</td><td>Detroit Pistons</td><td>1.5516e9</td><td>2019-03-02</td></tr><tr><th>23</th><td>BASK</td><td>NBA</td><td>3976873</td><td>Toronto Raptors</td><td>Detroit Pistons</td><td>1.5516e9</td><td>2019-03-02</td></tr><tr><th>24</th><td>BASK</td><td>NBA</td><td>3976873</td><td>Toronto Raptors</td><td>Detroit Pistons</td><td>1.5516e9</td><td>2019-03-02</td></tr><tr><th>25</th><td>BASK</td><td>NBA</td><td>3976873</td><td>Toronto Raptors</td><td>Detroit Pistons</td><td>1.5516e9</td><td>2019-03-02</td></tr><tr><th>26</th><td>BASK</td><td>NBA</td><td>3976873</td><td>Toronto Raptors</td><td>Detroit Pistons</td><td>1.5516e9</td><td>2019-03-02</td></tr><tr><th>27</th><td>BASK</td><td>NBA</td><td>3976873</td><td>Toronto Raptors</td><td>Detroit Pistons</td><td>1.5516e9</td><td>2019-03-02</td></tr><tr><th>28</th><td>BASK</td><td>NBA</td><td>3976873</td><td>Toronto Raptors</td><td>Detroit Pistons</td><td>1.55161e9</td><td>2019-03-02</td></tr><tr><th>29</th><td>BASK</td><td>NBA</td><td>3976873</td><td>Toronto Raptors</td><td>Detroit Pistons</td><td>1.55161e9</td><td>2019-03-02</td></tr><tr><th>30</th><td>BASK</td><td>NBA</td><td>3976873</td><td>Toronto Raptors</td><td>Detroit Pistons</td><td>1.55161e9</td><td>2019-03-02</td></tr><tr><th>&vellip;</th><td>&vellip;</td><td>&vellip;</td><td>&vellip;</td><td>&vellip;</td><td>&vellip;</td><td>&vellip;</td><td>&vellip;</td></tr></tbody></table>"
      ],
      "text/latex": [
       "GroupedDataFrame with 30 groups based on key: a\\_team\n",
       "\n",
       "First Group (2697 rows): a\\_team = \"Sacramento Kings\"\n",
       "\n",
       "\\begin{tabular}{r|cccccccc}\n",
       "\t& sport & league & game\\_id & a\\_team & h\\_team & cur\\_time & lms\\_date & \\\\\n",
       "\t\\hline\n",
       "\t& String & String & Int64 & String & String & Float64 & Dates… & \\\\\n",
       "\t\\hline\n",
       "\t1 & BASK & NBA & 4253821 & Sacramento Kings & Golden State Warriors & 1.55078e9 & 2019-02-20 & $\\dots$ \\\\\n",
       "\t2 & BASK & NBA & 4253821 & Sacramento Kings & Golden State Warriors & 1.55078e9 & 2019-02-20 & $\\dots$ \\\\\n",
       "\t3 & BASK & NBA & 4253821 & Sacramento Kings & Golden State Warriors & 1.55078e9 & 2019-02-20 & $\\dots$ \\\\\n",
       "\t4 & BASK & NBA & 4253821 & Sacramento Kings & Golden State Warriors & 1.55078e9 & 2019-02-20 & $\\dots$ \\\\\n",
       "\t5 & BASK & NBA & 4253821 & Sacramento Kings & Golden State Warriors & 1.55078e9 & 2019-02-20 & $\\dots$ \\\\\n",
       "\t6 & BASK & NBA & 4253821 & Sacramento Kings & Golden State Warriors & 1.55078e9 & 2019-02-20 & $\\dots$ \\\\\n",
       "\t7 & BASK & NBA & 4253821 & Sacramento Kings & Golden State Warriors & 1.55078e9 & 2019-02-20 & $\\dots$ \\\\\n",
       "\t8 & BASK & NBA & 4253821 & Sacramento Kings & Golden State Warriors & 1.55078e9 & 2019-02-20 & $\\dots$ \\\\\n",
       "\t9 & BASK & NBA & 4253821 & Sacramento Kings & Golden State Warriors & 1.55078e9 & 2019-02-20 & $\\dots$ \\\\\n",
       "\t10 & BASK & NBA & 4253821 & Sacramento Kings & Golden State Warriors & 1.55078e9 & 2019-02-20 & $\\dots$ \\\\\n",
       "\t11 & BASK & NBA & 4253821 & Sacramento Kings & Golden State Warriors & 1.55078e9 & 2019-02-20 & $\\dots$ \\\\\n",
       "\t12 & BASK & NBA & 4253821 & Sacramento Kings & Golden State Warriors & 1.55078e9 & 2019-02-20 & $\\dots$ \\\\\n",
       "\t13 & BASK & NBA & 4253821 & Sacramento Kings & Golden State Warriors & 1.55078e9 & 2019-02-20 & $\\dots$ \\\\\n",
       "\t14 & BASK & NBA & 4253821 & Sacramento Kings & Golden State Warriors & 1.55078e9 & 2019-02-20 & $\\dots$ \\\\\n",
       "\t15 & BASK & NBA & 4253821 & Sacramento Kings & Golden State Warriors & 1.55079e9 & 2019-02-20 & $\\dots$ \\\\\n",
       "\t16 & BASK & NBA & 4253821 & Sacramento Kings & Golden State Warriors & 1.55079e9 & 2019-02-20 & $\\dots$ \\\\\n",
       "\t17 & BASK & NBA & 4253821 & Sacramento Kings & Golden State Warriors & 1.55079e9 & 2019-02-20 & $\\dots$ \\\\\n",
       "\t18 & BASK & NBA & 4253821 & Sacramento Kings & Golden State Warriors & 1.55079e9 & 2019-02-20 & $\\dots$ \\\\\n",
       "\t19 & BASK & NBA & 4253821 & Sacramento Kings & Golden State Warriors & 1.55079e9 & 2019-02-20 & $\\dots$ \\\\\n",
       "\t20 & BASK & NBA & 4253821 & Sacramento Kings & Golden State Warriors & 1.55079e9 & 2019-02-20 & $\\dots$ \\\\\n",
       "\t21 & BASK & NBA & 4253821 & Sacramento Kings & Golden State Warriors & 1.55079e9 & 2019-02-20 & $\\dots$ \\\\\n",
       "\t22 & BASK & NBA & 4253821 & Sacramento Kings & Golden State Warriors & 1.55079e9 & 2019-02-20 & $\\dots$ \\\\\n",
       "\t23 & BASK & NBA & 4253821 & Sacramento Kings & Golden State Warriors & 1.55079e9 & 2019-02-20 & $\\dots$ \\\\\n",
       "\t24 & BASK & NBA & 4253821 & Sacramento Kings & Golden State Warriors & 1.55079e9 & 2019-02-20 & $\\dots$ \\\\\n",
       "\t25 & BASK & NBA & 4253821 & Sacramento Kings & Golden State Warriors & 1.55079e9 & 2019-02-20 & $\\dots$ \\\\\n",
       "\t26 & BASK & NBA & 4253821 & Sacramento Kings & Golden State Warriors & 1.55079e9 & 2019-02-20 & $\\dots$ \\\\\n",
       "\t27 & BASK & NBA & 4253821 & Sacramento Kings & Golden State Warriors & 1.55079e9 & 2019-02-20 & $\\dots$ \\\\\n",
       "\t28 & BASK & NBA & 4253821 & Sacramento Kings & Golden State Warriors & 1.55079e9 & 2019-02-20 & $\\dots$ \\\\\n",
       "\t29 & BASK & NBA & 4253821 & Sacramento Kings & Golden State Warriors & 1.55079e9 & 2019-02-20 & $\\dots$ \\\\\n",
       "\t30 & BASK & NBA & 4253821 & Sacramento Kings & Golden State Warriors & 1.55079e9 & 2019-02-20 & $\\dots$ \\\\\n",
       "\t$\\dots$ & $\\dots$ & $\\dots$ & $\\dots$ & $\\dots$ & $\\dots$ & $\\dots$ & $\\dots$ &  \\\\\n",
       "\\end{tabular}\n",
       "\n",
       "$\\dots$\n",
       "\n",
       "Last Group (1628 rows): a\\_team = \"Toronto Raptors\"\n",
       "\n",
       "\\begin{tabular}{r|cccccccc}\n",
       "\t& sport & league & game\\_id & a\\_team & h\\_team & cur\\_time & lms\\_date & \\\\\n",
       "\t\\hline\n",
       "\t& String & String & Int64 & String & String & Float64 & Dates… & \\\\\n",
       "\t\\hline\n",
       "\t1 & BASK & NBA & 3976873 & Toronto Raptors & Detroit Pistons & 1.55158e9 & 0000-01-01 & $\\dots$ \\\\\n",
       "\t2 & BASK & NBA & 3976873 & Toronto Raptors & Detroit Pistons & 1.55158e9 & 2019-03-02 & $\\dots$ \\\\\n",
       "\t3 & BASK & NBA & 3976873 & Toronto Raptors & Detroit Pistons & 1.55158e9 & 2019-03-02 & $\\dots$ \\\\\n",
       "\t4 & BASK & NBA & 3976873 & Toronto Raptors & Detroit Pistons & 1.55158e9 & 2019-03-02 & $\\dots$ \\\\\n",
       "\t5 & BASK & NBA & 3976873 & Toronto Raptors & Detroit Pistons & 1.55158e9 & 2019-03-02 & $\\dots$ \\\\\n",
       "\t6 & BASK & NBA & 3976873 & Toronto Raptors & Detroit Pistons & 1.55158e9 & 2019-03-02 & $\\dots$ \\\\\n",
       "\t7 & BASK & NBA & 3976873 & Toronto Raptors & Detroit Pistons & 1.55158e9 & 2019-03-02 & $\\dots$ \\\\\n",
       "\t8 & BASK & NBA & 3976873 & Toronto Raptors & Detroit Pistons & 1.55158e9 & 2019-03-02 & $\\dots$ \\\\\n",
       "\t9 & BASK & NBA & 3976873 & Toronto Raptors & Detroit Pistons & 1.55158e9 & 2019-03-02 & $\\dots$ \\\\\n",
       "\t10 & BASK & NBA & 3976873 & Toronto Raptors & Detroit Pistons & 1.55159e9 & 2019-03-02 & $\\dots$ \\\\\n",
       "\t11 & BASK & NBA & 3976873 & Toronto Raptors & Detroit Pistons & 1.55159e9 & 2019-03-02 & $\\dots$ \\\\\n",
       "\t12 & BASK & NBA & 3976873 & Toronto Raptors & Detroit Pistons & 1.55159e9 & 2019-03-02 & $\\dots$ \\\\\n",
       "\t13 & BASK & NBA & 3976873 & Toronto Raptors & Detroit Pistons & 1.55159e9 & 2019-03-02 & $\\dots$ \\\\\n",
       "\t14 & BASK & NBA & 3976873 & Toronto Raptors & Detroit Pistons & 1.55159e9 & 2019-03-02 & $\\dots$ \\\\\n",
       "\t15 & BASK & NBA & 3976873 & Toronto Raptors & Detroit Pistons & 1.55159e9 & 2019-03-02 & $\\dots$ \\\\\n",
       "\t16 & BASK & NBA & 3976873 & Toronto Raptors & Detroit Pistons & 1.55159e9 & 2019-03-02 & $\\dots$ \\\\\n",
       "\t17 & BASK & NBA & 3976873 & Toronto Raptors & Detroit Pistons & 1.55159e9 & 2019-03-02 & $\\dots$ \\\\\n",
       "\t18 & BASK & NBA & 3976873 & Toronto Raptors & Detroit Pistons & 1.55159e9 & 2019-03-02 & $\\dots$ \\\\\n",
       "\t19 & BASK & NBA & 3976873 & Toronto Raptors & Detroit Pistons & 1.5516e9 & 2019-03-02 & $\\dots$ \\\\\n",
       "\t20 & BASK & NBA & 3976873 & Toronto Raptors & Detroit Pistons & 1.5516e9 & 2019-03-02 & $\\dots$ \\\\\n",
       "\t21 & BASK & NBA & 3976873 & Toronto Raptors & Detroit Pistons & 1.5516e9 & 2019-03-02 & $\\dots$ \\\\\n",
       "\t22 & BASK & NBA & 3976873 & Toronto Raptors & Detroit Pistons & 1.5516e9 & 2019-03-02 & $\\dots$ \\\\\n",
       "\t23 & BASK & NBA & 3976873 & Toronto Raptors & Detroit Pistons & 1.5516e9 & 2019-03-02 & $\\dots$ \\\\\n",
       "\t24 & BASK & NBA & 3976873 & Toronto Raptors & Detroit Pistons & 1.5516e9 & 2019-03-02 & $\\dots$ \\\\\n",
       "\t25 & BASK & NBA & 3976873 & Toronto Raptors & Detroit Pistons & 1.5516e9 & 2019-03-02 & $\\dots$ \\\\\n",
       "\t26 & BASK & NBA & 3976873 & Toronto Raptors & Detroit Pistons & 1.5516e9 & 2019-03-02 & $\\dots$ \\\\\n",
       "\t27 & BASK & NBA & 3976873 & Toronto Raptors & Detroit Pistons & 1.5516e9 & 2019-03-02 & $\\dots$ \\\\\n",
       "\t28 & BASK & NBA & 3976873 & Toronto Raptors & Detroit Pistons & 1.55161e9 & 2019-03-02 & $\\dots$ \\\\\n",
       "\t29 & BASK & NBA & 3976873 & Toronto Raptors & Detroit Pistons & 1.55161e9 & 2019-03-02 & $\\dots$ \\\\\n",
       "\t30 & BASK & NBA & 3976873 & Toronto Raptors & Detroit Pistons & 1.55161e9 & 2019-03-02 & $\\dots$ \\\\\n",
       "\t$\\dots$ & $\\dots$ & $\\dots$ & $\\dots$ & $\\dots$ & $\\dots$ & $\\dots$ & $\\dots$ &  \\\\\n",
       "\\end{tabular}\n"
      ],
      "text/plain": [
       "GroupedDataFrame with 30 groups based on key: a_team\n",
       "First Group (2697 rows): a_team = \"Sacramento Kings\". Omitted printing of 30 columns\n",
       "│ Row  │ sport  │ league │ game_id │ a_team           │ h_team                │\n",
       "│      │ \u001b[90mString\u001b[39m │ \u001b[90mString\u001b[39m │ \u001b[90mInt64\u001b[39m   │ \u001b[90mString\u001b[39m           │ \u001b[90mString\u001b[39m                │\n",
       "├──────┼────────┼────────┼─────────┼──────────────────┼───────────────────────┤\n",
       "│ 1    │ BASK   │ NBA    │ 4253821 │ Sacramento Kings │ Golden State Warriors │\n",
       "│ 2    │ BASK   │ NBA    │ 4253821 │ Sacramento Kings │ Golden State Warriors │\n",
       "│ 3    │ BASK   │ NBA    │ 4253821 │ Sacramento Kings │ Golden State Warriors │\n",
       "│ 4    │ BASK   │ NBA    │ 4253821 │ Sacramento Kings │ Golden State Warriors │\n",
       "│ 5    │ BASK   │ NBA    │ 4253821 │ Sacramento Kings │ Golden State Warriors │\n",
       "│ 6    │ BASK   │ NBA    │ 4253821 │ Sacramento Kings │ Golden State Warriors │\n",
       "│ 7    │ BASK   │ NBA    │ 4253821 │ Sacramento Kings │ Golden State Warriors │\n",
       "│ 8    │ BASK   │ NBA    │ 4253821 │ Sacramento Kings │ Golden State Warriors │\n",
       "│ 9    │ BASK   │ NBA    │ 4253821 │ Sacramento Kings │ Golden State Warriors │\n",
       "│ 10   │ BASK   │ NBA    │ 4253821 │ Sacramento Kings │ Golden State Warriors │\n",
       "⋮\n",
       "│ 2687 │ BASK   │ NBA    │ 3996427 │ Sacramento Kings │ Washington Wizards    │\n",
       "│ 2688 │ BASK   │ NBA    │ 3996427 │ Sacramento Kings │ Washington Wizards    │\n",
       "│ 2689 │ BASK   │ NBA    │ 3996427 │ Sacramento Kings │ Washington Wizards    │\n",
       "│ 2690 │ BASK   │ NBA    │ 3996427 │ Sacramento Kings │ Washington Wizards    │\n",
       "│ 2691 │ BASK   │ NBA    │ 3996427 │ Sacramento Kings │ Washington Wizards    │\n",
       "│ 2692 │ BASK   │ NBA    │ 3996427 │ Sacramento Kings │ Washington Wizards    │\n",
       "│ 2693 │ BASK   │ NBA    │ 3996427 │ Sacramento Kings │ Washington Wizards    │\n",
       "│ 2694 │ BASK   │ NBA    │ 3996427 │ Sacramento Kings │ Washington Wizards    │\n",
       "│ 2695 │ BASK   │ NBA    │ 3996427 │ Sacramento Kings │ Washington Wizards    │\n",
       "│ 2696 │ BASK   │ NBA    │ 3996427 │ Sacramento Kings │ Washington Wizards    │\n",
       "│ 2697 │ BASK   │ NBA    │ 3996427 │ Sacramento Kings │ Washington Wizards    │\n",
       "⋮\n",
       "Last Group (1628 rows): a_team = \"Toronto Raptors\". Omitted printing of 30 columns\n",
       "│ Row  │ sport  │ league │ game_id │ a_team          │ h_team          │\n",
       "│      │ \u001b[90mString\u001b[39m │ \u001b[90mString\u001b[39m │ \u001b[90mInt64\u001b[39m   │ \u001b[90mString\u001b[39m          │ \u001b[90mString\u001b[39m          │\n",
       "├──────┼────────┼────────┼─────────┼─────────────────┼─────────────────┤\n",
       "│ 1    │ BASK   │ NBA    │ 3976873 │ Toronto Raptors │ Detroit Pistons │\n",
       "│ 2    │ BASK   │ NBA    │ 3976873 │ Toronto Raptors │ Detroit Pistons │\n",
       "│ 3    │ BASK   │ NBA    │ 3976873 │ Toronto Raptors │ Detroit Pistons │\n",
       "│ 4    │ BASK   │ NBA    │ 3976873 │ Toronto Raptors │ Detroit Pistons │\n",
       "│ 5    │ BASK   │ NBA    │ 3976873 │ Toronto Raptors │ Detroit Pistons │\n",
       "│ 6    │ BASK   │ NBA    │ 3976873 │ Toronto Raptors │ Detroit Pistons │\n",
       "│ 7    │ BASK   │ NBA    │ 3976873 │ Toronto Raptors │ Detroit Pistons │\n",
       "│ 8    │ BASK   │ NBA    │ 3976873 │ Toronto Raptors │ Detroit Pistons │\n",
       "│ 9    │ BASK   │ NBA    │ 3976873 │ Toronto Raptors │ Detroit Pistons │\n",
       "│ 10   │ BASK   │ NBA    │ 3976873 │ Toronto Raptors │ Detroit Pistons │\n",
       "⋮\n",
       "│ 1618 │ BASK   │ NBA    │ 3993847 │ Toronto Raptors │ Miami Heat      │\n",
       "│ 1619 │ BASK   │ NBA    │ 3993847 │ Toronto Raptors │ Miami Heat      │\n",
       "│ 1620 │ BASK   │ NBA    │ 3993847 │ Toronto Raptors │ Miami Heat      │\n",
       "│ 1621 │ BASK   │ NBA    │ 3993847 │ Toronto Raptors │ Miami Heat      │\n",
       "│ 1622 │ BASK   │ NBA    │ 3993847 │ Toronto Raptors │ Miami Heat      │\n",
       "│ 1623 │ BASK   │ NBA    │ 3993847 │ Toronto Raptors │ Miami Heat      │\n",
       "│ 1624 │ BASK   │ NBA    │ 3993847 │ Toronto Raptors │ Miami Heat      │\n",
       "│ 1625 │ BASK   │ NBA    │ 3993847 │ Toronto Raptors │ Miami Heat      │\n",
       "│ 1626 │ BASK   │ NBA    │ 3993847 │ Toronto Raptors │ Miami Heat      │\n",
       "│ 1627 │ BASK   │ NBA    │ 3993847 │ Toronto Raptors │ Miami Heat      │\n",
       "│ 1628 │ BASK   │ NBA    │ 3993847 │ Toronto Raptors │ Miami Heat      │"
      ]
     },
     "execution_count": 11,
     "metadata": {},
     "output_type": "execute_result"
    }
   ],
   "source": [
    "teams = Utils.games_from_odds(df, :a_team)"
   ]
  },
  {
   "cell_type": "code",
   "execution_count": 16,
   "metadata": {},
   "outputs": [
    {
     "data": {
      "text/plain": [
       "SubDataFrame{DataFrame,DataFrames.Index,Array{Int64,1}}"
      ]
     },
     "execution_count": 16,
     "metadata": {},
     "output_type": "execute_result"
    }
   ],
   "source": [
    "team = teams[1]\n",
    "typeof(team)"
   ]
  },
  {
   "cell_type": "code",
   "execution_count": null,
   "metadata": {},
   "outputs": [],
   "source": []
  },
  {
   "cell_type": "code",
   "execution_count": 17,
   "metadata": {},
   "outputs": [
    {
     "data": {
      "text/html": [
       "<p><b>GroupedDataFrame with 5 groups based on key: game_id</b></p><p><i>First Group (668 rows): game_id = 4253821</i></p><table class=\"data-frame\"><thead><tr><th></th><th>sport</th><th>league</th><th>game_id</th><th>a_team</th><th>h_team</th><th>cur_time</th><th>lms_date</th></tr><tr><th></th><th>String</th><th>String</th><th>Int64</th><th>String</th><th>String</th><th>Float64</th><th>Dates…</th></tr></thead><tbody><tr><th>1</th><td>BASK</td><td>NBA</td><td>4253821</td><td>Sacramento Kings</td><td>Golden State Warriors</td><td>1.55078e9</td><td>2019-02-20</td></tr><tr><th>2</th><td>BASK</td><td>NBA</td><td>4253821</td><td>Sacramento Kings</td><td>Golden State Warriors</td><td>1.55078e9</td><td>2019-02-20</td></tr><tr><th>3</th><td>BASK</td><td>NBA</td><td>4253821</td><td>Sacramento Kings</td><td>Golden State Warriors</td><td>1.55078e9</td><td>2019-02-20</td></tr><tr><th>4</th><td>BASK</td><td>NBA</td><td>4253821</td><td>Sacramento Kings</td><td>Golden State Warriors</td><td>1.55078e9</td><td>2019-02-20</td></tr><tr><th>5</th><td>BASK</td><td>NBA</td><td>4253821</td><td>Sacramento Kings</td><td>Golden State Warriors</td><td>1.55078e9</td><td>2019-02-20</td></tr><tr><th>6</th><td>BASK</td><td>NBA</td><td>4253821</td><td>Sacramento Kings</td><td>Golden State Warriors</td><td>1.55078e9</td><td>2019-02-20</td></tr><tr><th>7</th><td>BASK</td><td>NBA</td><td>4253821</td><td>Sacramento Kings</td><td>Golden State Warriors</td><td>1.55078e9</td><td>2019-02-20</td></tr><tr><th>8</th><td>BASK</td><td>NBA</td><td>4253821</td><td>Sacramento Kings</td><td>Golden State Warriors</td><td>1.55078e9</td><td>2019-02-20</td></tr><tr><th>9</th><td>BASK</td><td>NBA</td><td>4253821</td><td>Sacramento Kings</td><td>Golden State Warriors</td><td>1.55078e9</td><td>2019-02-20</td></tr><tr><th>10</th><td>BASK</td><td>NBA</td><td>4253821</td><td>Sacramento Kings</td><td>Golden State Warriors</td><td>1.55078e9</td><td>2019-02-20</td></tr><tr><th>11</th><td>BASK</td><td>NBA</td><td>4253821</td><td>Sacramento Kings</td><td>Golden State Warriors</td><td>1.55078e9</td><td>2019-02-20</td></tr><tr><th>12</th><td>BASK</td><td>NBA</td><td>4253821</td><td>Sacramento Kings</td><td>Golden State Warriors</td><td>1.55078e9</td><td>2019-02-20</td></tr><tr><th>13</th><td>BASK</td><td>NBA</td><td>4253821</td><td>Sacramento Kings</td><td>Golden State Warriors</td><td>1.55078e9</td><td>2019-02-20</td></tr><tr><th>14</th><td>BASK</td><td>NBA</td><td>4253821</td><td>Sacramento Kings</td><td>Golden State Warriors</td><td>1.55078e9</td><td>2019-02-20</td></tr><tr><th>15</th><td>BASK</td><td>NBA</td><td>4253821</td><td>Sacramento Kings</td><td>Golden State Warriors</td><td>1.55079e9</td><td>2019-02-20</td></tr><tr><th>16</th><td>BASK</td><td>NBA</td><td>4253821</td><td>Sacramento Kings</td><td>Golden State Warriors</td><td>1.55079e9</td><td>2019-02-20</td></tr><tr><th>17</th><td>BASK</td><td>NBA</td><td>4253821</td><td>Sacramento Kings</td><td>Golden State Warriors</td><td>1.55079e9</td><td>2019-02-20</td></tr><tr><th>18</th><td>BASK</td><td>NBA</td><td>4253821</td><td>Sacramento Kings</td><td>Golden State Warriors</td><td>1.55079e9</td><td>2019-02-20</td></tr><tr><th>19</th><td>BASK</td><td>NBA</td><td>4253821</td><td>Sacramento Kings</td><td>Golden State Warriors</td><td>1.55079e9</td><td>2019-02-20</td></tr><tr><th>20</th><td>BASK</td><td>NBA</td><td>4253821</td><td>Sacramento Kings</td><td>Golden State Warriors</td><td>1.55079e9</td><td>2019-02-20</td></tr><tr><th>21</th><td>BASK</td><td>NBA</td><td>4253821</td><td>Sacramento Kings</td><td>Golden State Warriors</td><td>1.55079e9</td><td>2019-02-20</td></tr><tr><th>22</th><td>BASK</td><td>NBA</td><td>4253821</td><td>Sacramento Kings</td><td>Golden State Warriors</td><td>1.55079e9</td><td>2019-02-20</td></tr><tr><th>23</th><td>BASK</td><td>NBA</td><td>4253821</td><td>Sacramento Kings</td><td>Golden State Warriors</td><td>1.55079e9</td><td>2019-02-20</td></tr><tr><th>24</th><td>BASK</td><td>NBA</td><td>4253821</td><td>Sacramento Kings</td><td>Golden State Warriors</td><td>1.55079e9</td><td>2019-02-20</td></tr><tr><th>25</th><td>BASK</td><td>NBA</td><td>4253821</td><td>Sacramento Kings</td><td>Golden State Warriors</td><td>1.55079e9</td><td>2019-02-20</td></tr><tr><th>26</th><td>BASK</td><td>NBA</td><td>4253821</td><td>Sacramento Kings</td><td>Golden State Warriors</td><td>1.55079e9</td><td>2019-02-20</td></tr><tr><th>27</th><td>BASK</td><td>NBA</td><td>4253821</td><td>Sacramento Kings</td><td>Golden State Warriors</td><td>1.55079e9</td><td>2019-02-20</td></tr><tr><th>28</th><td>BASK</td><td>NBA</td><td>4253821</td><td>Sacramento Kings</td><td>Golden State Warriors</td><td>1.55079e9</td><td>2019-02-20</td></tr><tr><th>29</th><td>BASK</td><td>NBA</td><td>4253821</td><td>Sacramento Kings</td><td>Golden State Warriors</td><td>1.55079e9</td><td>2019-02-20</td></tr><tr><th>30</th><td>BASK</td><td>NBA</td><td>4253821</td><td>Sacramento Kings</td><td>Golden State Warriors</td><td>1.55079e9</td><td>2019-02-20</td></tr><tr><th>&vellip;</th><td>&vellip;</td><td>&vellip;</td><td>&vellip;</td><td>&vellip;</td><td>&vellip;</td><td>&vellip;</td><td>&vellip;</td></tr></tbody></table><p>&vellip;</p><p><i>Last Group (20 rows): game_id = 3996427</i></p><table class=\"data-frame\"><thead><tr><th></th><th>sport</th><th>league</th><th>game_id</th><th>a_team</th><th>h_team</th><th>cur_time</th><th>lms_date</th></tr><tr><th></th><th>String</th><th>String</th><th>Int64</th><th>String</th><th>String</th><th>Float64</th><th>Dates…</th></tr></thead><tbody><tr><th>1</th><td>BASK</td><td>NBA</td><td>3996427</td><td>Sacramento Kings</td><td>Washington Wizards</td><td>1.55225e9</td><td>0000-01-01</td></tr><tr><th>2</th><td>BASK</td><td>NBA</td><td>3996427</td><td>Sacramento Kings</td><td>Washington Wizards</td><td>1.55225e9</td><td>2019-03-09</td></tr><tr><th>3</th><td>BASK</td><td>NBA</td><td>3996427</td><td>Sacramento Kings</td><td>Washington Wizards</td><td>1.55225e9</td><td>2019-03-09</td></tr><tr><th>4</th><td>BASK</td><td>NBA</td><td>3996427</td><td>Sacramento Kings</td><td>Washington Wizards</td><td>1.55225e9</td><td>2019-03-09</td></tr><tr><th>5</th><td>BASK</td><td>NBA</td><td>3996427</td><td>Sacramento Kings</td><td>Washington Wizards</td><td>1.55225e9</td><td>2019-03-09</td></tr><tr><th>6</th><td>BASK</td><td>NBA</td><td>3996427</td><td>Sacramento Kings</td><td>Washington Wizards</td><td>1.55225e9</td><td>2019-03-09</td></tr><tr><th>7</th><td>BASK</td><td>NBA</td><td>3996427</td><td>Sacramento Kings</td><td>Washington Wizards</td><td>1.55225e9</td><td>2019-03-09</td></tr><tr><th>8</th><td>BASK</td><td>NBA</td><td>3996427</td><td>Sacramento Kings</td><td>Washington Wizards</td><td>1.55225e9</td><td>2019-03-09</td></tr><tr><th>9</th><td>BASK</td><td>NBA</td><td>3996427</td><td>Sacramento Kings</td><td>Washington Wizards</td><td>1.55225e9</td><td>2019-03-09</td></tr><tr><th>10</th><td>BASK</td><td>NBA</td><td>3996427</td><td>Sacramento Kings</td><td>Washington Wizards</td><td>1.55225e9</td><td>2019-03-09</td></tr><tr><th>11</th><td>BASK</td><td>NBA</td><td>3996427</td><td>Sacramento Kings</td><td>Washington Wizards</td><td>1.55225e9</td><td>2019-03-09</td></tr><tr><th>12</th><td>BASK</td><td>NBA</td><td>3996427</td><td>Sacramento Kings</td><td>Washington Wizards</td><td>1.55225e9</td><td>2019-03-09</td></tr><tr><th>13</th><td>BASK</td><td>NBA</td><td>3996427</td><td>Sacramento Kings</td><td>Washington Wizards</td><td>1.55225e9</td><td>2019-03-09</td></tr><tr><th>14</th><td>BASK</td><td>NBA</td><td>3996427</td><td>Sacramento Kings</td><td>Washington Wizards</td><td>1.55225e9</td><td>2019-03-09</td></tr><tr><th>15</th><td>BASK</td><td>NBA</td><td>3996427</td><td>Sacramento Kings</td><td>Washington Wizards</td><td>1.55225e9</td><td>2019-03-09</td></tr><tr><th>16</th><td>BASK</td><td>NBA</td><td>3996427</td><td>Sacramento Kings</td><td>Washington Wizards</td><td>1.55225e9</td><td>2019-03-09</td></tr><tr><th>17</th><td>BASK</td><td>NBA</td><td>3996427</td><td>Sacramento Kings</td><td>Washington Wizards</td><td>1.55225e9</td><td>2019-03-09</td></tr><tr><th>18</th><td>BASK</td><td>NBA</td><td>3996427</td><td>Sacramento Kings</td><td>Washington Wizards</td><td>1.55225e9</td><td>2019-03-09</td></tr><tr><th>19</th><td>BASK</td><td>NBA</td><td>3996427</td><td>Sacramento Kings</td><td>Washington Wizards</td><td>1.55225e9</td><td>2019-03-09</td></tr><tr><th>20</th><td>BASK</td><td>NBA</td><td>3996427</td><td>Sacramento Kings</td><td>Washington Wizards</td><td>1.55226e9</td><td>2019-03-09</td></tr></tbody></table>"
      ],
      "text/latex": [
       "GroupedDataFrame with 5 groups based on key: game\\_id\n",
       "\n",
       "First Group (668 rows): game\\_id = 4253821\n",
       "\n",
       "\\begin{tabular}{r|cccccccc}\n",
       "\t& sport & league & game\\_id & a\\_team & h\\_team & cur\\_time & lms\\_date & \\\\\n",
       "\t\\hline\n",
       "\t& String & String & Int64 & String & String & Float64 & Dates… & \\\\\n",
       "\t\\hline\n",
       "\t1 & BASK & NBA & 4253821 & Sacramento Kings & Golden State Warriors & 1.55078e9 & 2019-02-20 & $\\dots$ \\\\\n",
       "\t2 & BASK & NBA & 4253821 & Sacramento Kings & Golden State Warriors & 1.55078e9 & 2019-02-20 & $\\dots$ \\\\\n",
       "\t3 & BASK & NBA & 4253821 & Sacramento Kings & Golden State Warriors & 1.55078e9 & 2019-02-20 & $\\dots$ \\\\\n",
       "\t4 & BASK & NBA & 4253821 & Sacramento Kings & Golden State Warriors & 1.55078e9 & 2019-02-20 & $\\dots$ \\\\\n",
       "\t5 & BASK & NBA & 4253821 & Sacramento Kings & Golden State Warriors & 1.55078e9 & 2019-02-20 & $\\dots$ \\\\\n",
       "\t6 & BASK & NBA & 4253821 & Sacramento Kings & Golden State Warriors & 1.55078e9 & 2019-02-20 & $\\dots$ \\\\\n",
       "\t7 & BASK & NBA & 4253821 & Sacramento Kings & Golden State Warriors & 1.55078e9 & 2019-02-20 & $\\dots$ \\\\\n",
       "\t8 & BASK & NBA & 4253821 & Sacramento Kings & Golden State Warriors & 1.55078e9 & 2019-02-20 & $\\dots$ \\\\\n",
       "\t9 & BASK & NBA & 4253821 & Sacramento Kings & Golden State Warriors & 1.55078e9 & 2019-02-20 & $\\dots$ \\\\\n",
       "\t10 & BASK & NBA & 4253821 & Sacramento Kings & Golden State Warriors & 1.55078e9 & 2019-02-20 & $\\dots$ \\\\\n",
       "\t11 & BASK & NBA & 4253821 & Sacramento Kings & Golden State Warriors & 1.55078e9 & 2019-02-20 & $\\dots$ \\\\\n",
       "\t12 & BASK & NBA & 4253821 & Sacramento Kings & Golden State Warriors & 1.55078e9 & 2019-02-20 & $\\dots$ \\\\\n",
       "\t13 & BASK & NBA & 4253821 & Sacramento Kings & Golden State Warriors & 1.55078e9 & 2019-02-20 & $\\dots$ \\\\\n",
       "\t14 & BASK & NBA & 4253821 & Sacramento Kings & Golden State Warriors & 1.55078e9 & 2019-02-20 & $\\dots$ \\\\\n",
       "\t15 & BASK & NBA & 4253821 & Sacramento Kings & Golden State Warriors & 1.55079e9 & 2019-02-20 & $\\dots$ \\\\\n",
       "\t16 & BASK & NBA & 4253821 & Sacramento Kings & Golden State Warriors & 1.55079e9 & 2019-02-20 & $\\dots$ \\\\\n",
       "\t17 & BASK & NBA & 4253821 & Sacramento Kings & Golden State Warriors & 1.55079e9 & 2019-02-20 & $\\dots$ \\\\\n",
       "\t18 & BASK & NBA & 4253821 & Sacramento Kings & Golden State Warriors & 1.55079e9 & 2019-02-20 & $\\dots$ \\\\\n",
       "\t19 & BASK & NBA & 4253821 & Sacramento Kings & Golden State Warriors & 1.55079e9 & 2019-02-20 & $\\dots$ \\\\\n",
       "\t20 & BASK & NBA & 4253821 & Sacramento Kings & Golden State Warriors & 1.55079e9 & 2019-02-20 & $\\dots$ \\\\\n",
       "\t21 & BASK & NBA & 4253821 & Sacramento Kings & Golden State Warriors & 1.55079e9 & 2019-02-20 & $\\dots$ \\\\\n",
       "\t22 & BASK & NBA & 4253821 & Sacramento Kings & Golden State Warriors & 1.55079e9 & 2019-02-20 & $\\dots$ \\\\\n",
       "\t23 & BASK & NBA & 4253821 & Sacramento Kings & Golden State Warriors & 1.55079e9 & 2019-02-20 & $\\dots$ \\\\\n",
       "\t24 & BASK & NBA & 4253821 & Sacramento Kings & Golden State Warriors & 1.55079e9 & 2019-02-20 & $\\dots$ \\\\\n",
       "\t25 & BASK & NBA & 4253821 & Sacramento Kings & Golden State Warriors & 1.55079e9 & 2019-02-20 & $\\dots$ \\\\\n",
       "\t26 & BASK & NBA & 4253821 & Sacramento Kings & Golden State Warriors & 1.55079e9 & 2019-02-20 & $\\dots$ \\\\\n",
       "\t27 & BASK & NBA & 4253821 & Sacramento Kings & Golden State Warriors & 1.55079e9 & 2019-02-20 & $\\dots$ \\\\\n",
       "\t28 & BASK & NBA & 4253821 & Sacramento Kings & Golden State Warriors & 1.55079e9 & 2019-02-20 & $\\dots$ \\\\\n",
       "\t29 & BASK & NBA & 4253821 & Sacramento Kings & Golden State Warriors & 1.55079e9 & 2019-02-20 & $\\dots$ \\\\\n",
       "\t30 & BASK & NBA & 4253821 & Sacramento Kings & Golden State Warriors & 1.55079e9 & 2019-02-20 & $\\dots$ \\\\\n",
       "\t$\\dots$ & $\\dots$ & $\\dots$ & $\\dots$ & $\\dots$ & $\\dots$ & $\\dots$ & $\\dots$ &  \\\\\n",
       "\\end{tabular}\n",
       "\n",
       "$\\dots$\n",
       "\n",
       "Last Group (20 rows): game\\_id = 3996427\n",
       "\n",
       "\\begin{tabular}{r|cccccccc}\n",
       "\t& sport & league & game\\_id & a\\_team & h\\_team & cur\\_time & lms\\_date & \\\\\n",
       "\t\\hline\n",
       "\t& String & String & Int64 & String & String & Float64 & Dates… & \\\\\n",
       "\t\\hline\n",
       "\t1 & BASK & NBA & 3996427 & Sacramento Kings & Washington Wizards & 1.55225e9 & 0000-01-01 & $\\dots$ \\\\\n",
       "\t2 & BASK & NBA & 3996427 & Sacramento Kings & Washington Wizards & 1.55225e9 & 2019-03-09 & $\\dots$ \\\\\n",
       "\t3 & BASK & NBA & 3996427 & Sacramento Kings & Washington Wizards & 1.55225e9 & 2019-03-09 & $\\dots$ \\\\\n",
       "\t4 & BASK & NBA & 3996427 & Sacramento Kings & Washington Wizards & 1.55225e9 & 2019-03-09 & $\\dots$ \\\\\n",
       "\t5 & BASK & NBA & 3996427 & Sacramento Kings & Washington Wizards & 1.55225e9 & 2019-03-09 & $\\dots$ \\\\\n",
       "\t6 & BASK & NBA & 3996427 & Sacramento Kings & Washington Wizards & 1.55225e9 & 2019-03-09 & $\\dots$ \\\\\n",
       "\t7 & BASK & NBA & 3996427 & Sacramento Kings & Washington Wizards & 1.55225e9 & 2019-03-09 & $\\dots$ \\\\\n",
       "\t8 & BASK & NBA & 3996427 & Sacramento Kings & Washington Wizards & 1.55225e9 & 2019-03-09 & $\\dots$ \\\\\n",
       "\t9 & BASK & NBA & 3996427 & Sacramento Kings & Washington Wizards & 1.55225e9 & 2019-03-09 & $\\dots$ \\\\\n",
       "\t10 & BASK & NBA & 3996427 & Sacramento Kings & Washington Wizards & 1.55225e9 & 2019-03-09 & $\\dots$ \\\\\n",
       "\t11 & BASK & NBA & 3996427 & Sacramento Kings & Washington Wizards & 1.55225e9 & 2019-03-09 & $\\dots$ \\\\\n",
       "\t12 & BASK & NBA & 3996427 & Sacramento Kings & Washington Wizards & 1.55225e9 & 2019-03-09 & $\\dots$ \\\\\n",
       "\t13 & BASK & NBA & 3996427 & Sacramento Kings & Washington Wizards & 1.55225e9 & 2019-03-09 & $\\dots$ \\\\\n",
       "\t14 & BASK & NBA & 3996427 & Sacramento Kings & Washington Wizards & 1.55225e9 & 2019-03-09 & $\\dots$ \\\\\n",
       "\t15 & BASK & NBA & 3996427 & Sacramento Kings & Washington Wizards & 1.55225e9 & 2019-03-09 & $\\dots$ \\\\\n",
       "\t16 & BASK & NBA & 3996427 & Sacramento Kings & Washington Wizards & 1.55225e9 & 2019-03-09 & $\\dots$ \\\\\n",
       "\t17 & BASK & NBA & 3996427 & Sacramento Kings & Washington Wizards & 1.55225e9 & 2019-03-09 & $\\dots$ \\\\\n",
       "\t18 & BASK & NBA & 3996427 & Sacramento Kings & Washington Wizards & 1.55225e9 & 2019-03-09 & $\\dots$ \\\\\n",
       "\t19 & BASK & NBA & 3996427 & Sacramento Kings & Washington Wizards & 1.55225e9 & 2019-03-09 & $\\dots$ \\\\\n",
       "\t20 & BASK & NBA & 3996427 & Sacramento Kings & Washington Wizards & 1.55226e9 & 2019-03-09 & $\\dots$ \\\\\n",
       "\\end{tabular}\n"
      ],
      "text/plain": [
       "GroupedDataFrame with 5 groups based on key: game_id\n",
       "First Group (668 rows): game_id = 4253821. Omitted printing of 30 columns\n",
       "│ Row │ sport  │ league │ game_id │ a_team           │ h_team                │\n",
       "│     │ \u001b[90mString\u001b[39m │ \u001b[90mString\u001b[39m │ \u001b[90mInt64\u001b[39m   │ \u001b[90mString\u001b[39m           │ \u001b[90mString\u001b[39m                │\n",
       "├─────┼────────┼────────┼─────────┼──────────────────┼───────────────────────┤\n",
       "│ 1   │ BASK   │ NBA    │ 4253821 │ Sacramento Kings │ Golden State Warriors │\n",
       "│ 2   │ BASK   │ NBA    │ 4253821 │ Sacramento Kings │ Golden State Warriors │\n",
       "│ 3   │ BASK   │ NBA    │ 4253821 │ Sacramento Kings │ Golden State Warriors │\n",
       "│ 4   │ BASK   │ NBA    │ 4253821 │ Sacramento Kings │ Golden State Warriors │\n",
       "│ 5   │ BASK   │ NBA    │ 4253821 │ Sacramento Kings │ Golden State Warriors │\n",
       "│ 6   │ BASK   │ NBA    │ 4253821 │ Sacramento Kings │ Golden State Warriors │\n",
       "│ 7   │ BASK   │ NBA    │ 4253821 │ Sacramento Kings │ Golden State Warriors │\n",
       "│ 8   │ BASK   │ NBA    │ 4253821 │ Sacramento Kings │ Golden State Warriors │\n",
       "│ 9   │ BASK   │ NBA    │ 4253821 │ Sacramento Kings │ Golden State Warriors │\n",
       "│ 10  │ BASK   │ NBA    │ 4253821 │ Sacramento Kings │ Golden State Warriors │\n",
       "⋮\n",
       "│ 658 │ BASK   │ NBA    │ 4253821 │ Sacramento Kings │ Golden State Warriors │\n",
       "│ 659 │ BASK   │ NBA    │ 4253821 │ Sacramento Kings │ Golden State Warriors │\n",
       "│ 660 │ BASK   │ NBA    │ 4253821 │ Sacramento Kings │ Golden State Warriors │\n",
       "│ 661 │ BASK   │ NBA    │ 4253821 │ Sacramento Kings │ Golden State Warriors │\n",
       "│ 662 │ BASK   │ NBA    │ 4253821 │ Sacramento Kings │ Golden State Warriors │\n",
       "│ 663 │ BASK   │ NBA    │ 4253821 │ Sacramento Kings │ Golden State Warriors │\n",
       "│ 664 │ BASK   │ NBA    │ 4253821 │ Sacramento Kings │ Golden State Warriors │\n",
       "│ 665 │ BASK   │ NBA    │ 4253821 │ Sacramento Kings │ Golden State Warriors │\n",
       "│ 666 │ BASK   │ NBA    │ 4253821 │ Sacramento Kings │ Golden State Warriors │\n",
       "│ 667 │ BASK   │ NBA    │ 4253821 │ Sacramento Kings │ Golden State Warriors │\n",
       "│ 668 │ BASK   │ NBA    │ 4253821 │ Sacramento Kings │ Golden State Warriors │\n",
       "⋮\n",
       "Last Group (20 rows): game_id = 3996427. Omitted printing of 30 columns\n",
       "│ Row │ sport  │ league │ game_id │ a_team           │ h_team             │\n",
       "│     │ \u001b[90mString\u001b[39m │ \u001b[90mString\u001b[39m │ \u001b[90mInt64\u001b[39m   │ \u001b[90mString\u001b[39m           │ \u001b[90mString\u001b[39m             │\n",
       "├─────┼────────┼────────┼─────────┼──────────────────┼────────────────────┤\n",
       "│ 1   │ BASK   │ NBA    │ 3996427 │ Sacramento Kings │ Washington Wizards │\n",
       "│ 2   │ BASK   │ NBA    │ 3996427 │ Sacramento Kings │ Washington Wizards │\n",
       "│ 3   │ BASK   │ NBA    │ 3996427 │ Sacramento Kings │ Washington Wizards │\n",
       "│ 4   │ BASK   │ NBA    │ 3996427 │ Sacramento Kings │ Washington Wizards │\n",
       "│ 5   │ BASK   │ NBA    │ 3996427 │ Sacramento Kings │ Washington Wizards │\n",
       "│ 6   │ BASK   │ NBA    │ 3996427 │ Sacramento Kings │ Washington Wizards │\n",
       "│ 7   │ BASK   │ NBA    │ 3996427 │ Sacramento Kings │ Washington Wizards │\n",
       "│ 8   │ BASK   │ NBA    │ 3996427 │ Sacramento Kings │ Washington Wizards │\n",
       "│ 9   │ BASK   │ NBA    │ 3996427 │ Sacramento Kings │ Washington Wizards │\n",
       "│ 10  │ BASK   │ NBA    │ 3996427 │ Sacramento Kings │ Washington Wizards │\n",
       "│ 11  │ BASK   │ NBA    │ 3996427 │ Sacramento Kings │ Washington Wizards │\n",
       "│ 12  │ BASK   │ NBA    │ 3996427 │ Sacramento Kings │ Washington Wizards │\n",
       "│ 13  │ BASK   │ NBA    │ 3996427 │ Sacramento Kings │ Washington Wizards │\n",
       "│ 14  │ BASK   │ NBA    │ 3996427 │ Sacramento Kings │ Washington Wizards │\n",
       "│ 15  │ BASK   │ NBA    │ 3996427 │ Sacramento Kings │ Washington Wizards │\n",
       "│ 16  │ BASK   │ NBA    │ 3996427 │ Sacramento Kings │ Washington Wizards │\n",
       "│ 17  │ BASK   │ NBA    │ 3996427 │ Sacramento Kings │ Washington Wizards │\n",
       "│ 18  │ BASK   │ NBA    │ 3996427 │ Sacramento Kings │ Washington Wizards │\n",
       "│ 19  │ BASK   │ NBA    │ 3996427 │ Sacramento Kings │ Washington Wizards │\n",
       "│ 20  │ BASK   │ NBA    │ 3996427 │ Sacramento Kings │ Washington Wizards │"
      ]
     },
     "execution_count": 17,
     "metadata": {},
     "output_type": "execute_result"
    }
   ],
   "source": []
  },
  {
   "cell_type": "code",
   "execution_count": 33,
   "metadata": {},
   "outputs": [
    {
     "data": {
      "text/plain": [
       "1.55078017381284e9"
      ]
     },
     "execution_count": 33,
     "metadata": {},
     "output_type": "execute_result"
    }
   ],
   "source": []
  },
  {
   "cell_type": "code",
   "execution_count": 34,
   "metadata": {},
   "outputs": [
    {
     "data": {
      "text/html": [
       "<table class=\"data-frame\"><thead><tr><th></th><th>sport</th><th>league</th><th>game_id</th><th>a_team</th><th>h_team</th><th>cur_time</th><th>lms_date</th></tr><tr><th></th><th>String</th><th>String</th><th>Int64</th><th>String</th><th>String</th><th>Float64</th><th>Dates…</th></tr></thead><tbody><p>668 rows × 35 columns (omitted printing of 28 columns)</p><tr><th>1</th><td>BASK</td><td>NBA</td><td>4253821</td><td>Sacramento Kings</td><td>Golden State Warriors</td><td>0.0</td><td>2019-02-20</td></tr><tr><th>2</th><td>BASK</td><td>NBA</td><td>4253821</td><td>Sacramento Kings</td><td>Golden State Warriors</td><td>1329.04</td><td>2019-02-20</td></tr><tr><th>3</th><td>BASK</td><td>NBA</td><td>4253821</td><td>Sacramento Kings</td><td>Golden State Warriors</td><td>1405.68</td><td>2019-02-20</td></tr><tr><th>4</th><td>BASK</td><td>NBA</td><td>4253821</td><td>Sacramento Kings</td><td>Golden State Warriors</td><td>1646.59</td><td>2019-02-20</td></tr><tr><th>5</th><td>BASK</td><td>NBA</td><td>4253821</td><td>Sacramento Kings</td><td>Golden State Warriors</td><td>1914.81</td><td>2019-02-20</td></tr><tr><th>6</th><td>BASK</td><td>NBA</td><td>4253821</td><td>Sacramento Kings</td><td>Golden State Warriors</td><td>1988.74</td><td>2019-02-20</td></tr><tr><th>7</th><td>BASK</td><td>NBA</td><td>4253821</td><td>Sacramento Kings</td><td>Golden State Warriors</td><td>2064.29</td><td>2019-02-20</td></tr><tr><th>8</th><td>BASK</td><td>NBA</td><td>4253821</td><td>Sacramento Kings</td><td>Golden State Warriors</td><td>2400.05</td><td>2019-02-20</td></tr><tr><th>9</th><td>BASK</td><td>NBA</td><td>4253821</td><td>Sacramento Kings</td><td>Golden State Warriors</td><td>2438.19</td><td>2019-02-20</td></tr><tr><th>10</th><td>BASK</td><td>NBA</td><td>4253821</td><td>Sacramento Kings</td><td>Golden State Warriors</td><td>2627.06</td><td>2019-02-20</td></tr><tr><th>11</th><td>BASK</td><td>NBA</td><td>4253821</td><td>Sacramento Kings</td><td>Golden State Warriors</td><td>2664.4</td><td>2019-02-20</td></tr><tr><th>12</th><td>BASK</td><td>NBA</td><td>4253821</td><td>Sacramento Kings</td><td>Golden State Warriors</td><td>2740.32</td><td>2019-02-20</td></tr><tr><th>13</th><td>BASK</td><td>NBA</td><td>4253821</td><td>Sacramento Kings</td><td>Golden State Warriors</td><td>2927.55</td><td>2019-02-20</td></tr><tr><th>14</th><td>BASK</td><td>NBA</td><td>4253821</td><td>Sacramento Kings</td><td>Golden State Warriors</td><td>4468.82</td><td>2019-02-20</td></tr><tr><th>15</th><td>BASK</td><td>NBA</td><td>4253821</td><td>Sacramento Kings</td><td>Golden State Warriors</td><td>5035.77</td><td>2019-02-20</td></tr><tr><th>16</th><td>BASK</td><td>NBA</td><td>4253821</td><td>Sacramento Kings</td><td>Golden State Warriors</td><td>5744.72</td><td>2019-02-20</td></tr><tr><th>17</th><td>BASK</td><td>NBA</td><td>4253821</td><td>Sacramento Kings</td><td>Golden State Warriors</td><td>6837.63</td><td>2019-02-20</td></tr><tr><th>18</th><td>BASK</td><td>NBA</td><td>4253821</td><td>Sacramento Kings</td><td>Golden State Warriors</td><td>7220.73</td><td>2019-02-20</td></tr><tr><th>19</th><td>BASK</td><td>NBA</td><td>4253821</td><td>Sacramento Kings</td><td>Golden State Warriors</td><td>7258.55</td><td>2019-02-20</td></tr><tr><th>20</th><td>BASK</td><td>NBA</td><td>4253821</td><td>Sacramento Kings</td><td>Golden State Warriors</td><td>7333.07</td><td>2019-02-20</td></tr><tr><th>21</th><td>BASK</td><td>NBA</td><td>4253821</td><td>Sacramento Kings</td><td>Golden State Warriors</td><td>7370.69</td><td>2019-02-20</td></tr><tr><th>22</th><td>BASK</td><td>NBA</td><td>4253821</td><td>Sacramento Kings</td><td>Golden State Warriors</td><td>7446.8</td><td>2019-02-20</td></tr><tr><th>23</th><td>BASK</td><td>NBA</td><td>4253821</td><td>Sacramento Kings</td><td>Golden State Warriors</td><td>8237.56</td><td>2019-02-20</td></tr><tr><th>24</th><td>BASK</td><td>NBA</td><td>4253821</td><td>Sacramento Kings</td><td>Golden State Warriors</td><td>8311.39</td><td>2019-02-20</td></tr><tr><th>25</th><td>BASK</td><td>NBA</td><td>4253821</td><td>Sacramento Kings</td><td>Golden State Warriors</td><td>8348.91</td><td>2019-02-20</td></tr><tr><th>26</th><td>BASK</td><td>NBA</td><td>4253821</td><td>Sacramento Kings</td><td>Golden State Warriors</td><td>8387.29</td><td>2019-02-20</td></tr><tr><th>27</th><td>BASK</td><td>NBA</td><td>4253821</td><td>Sacramento Kings</td><td>Golden State Warriors</td><td>8425.02</td><td>2019-02-20</td></tr><tr><th>28</th><td>BASK</td><td>NBA</td><td>4253821</td><td>Sacramento Kings</td><td>Golden State Warriors</td><td>8463.2</td><td>2019-02-20</td></tr><tr><th>29</th><td>BASK</td><td>NBA</td><td>4253821</td><td>Sacramento Kings</td><td>Golden State Warriors</td><td>8500.75</td><td>2019-02-20</td></tr><tr><th>30</th><td>BASK</td><td>NBA</td><td>4253821</td><td>Sacramento Kings</td><td>Golden State Warriors</td><td>9625.4</td><td>2019-02-20</td></tr><tr><th>&vellip;</th><td>&vellip;</td><td>&vellip;</td><td>&vellip;</td><td>&vellip;</td><td>&vellip;</td><td>&vellip;</td><td>&vellip;</td></tr></tbody></table>"
      ],
      "text/latex": [
       "\\begin{tabular}{r|cccccccc}\n",
       "\t& sport & league & game\\_id & a\\_team & h\\_team & cur\\_time & lms\\_date & \\\\\n",
       "\t\\hline\n",
       "\t& String & String & Int64 & String & String & Float64 & Dates… & \\\\\n",
       "\t\\hline\n",
       "\t1 & BASK & NBA & 4253821 & Sacramento Kings & Golden State Warriors & 0.0 & 2019-02-20 & $\\dots$ \\\\\n",
       "\t2 & BASK & NBA & 4253821 & Sacramento Kings & Golden State Warriors & 1329.04 & 2019-02-20 & $\\dots$ \\\\\n",
       "\t3 & BASK & NBA & 4253821 & Sacramento Kings & Golden State Warriors & 1405.68 & 2019-02-20 & $\\dots$ \\\\\n",
       "\t4 & BASK & NBA & 4253821 & Sacramento Kings & Golden State Warriors & 1646.59 & 2019-02-20 & $\\dots$ \\\\\n",
       "\t5 & BASK & NBA & 4253821 & Sacramento Kings & Golden State Warriors & 1914.81 & 2019-02-20 & $\\dots$ \\\\\n",
       "\t6 & BASK & NBA & 4253821 & Sacramento Kings & Golden State Warriors & 1988.74 & 2019-02-20 & $\\dots$ \\\\\n",
       "\t7 & BASK & NBA & 4253821 & Sacramento Kings & Golden State Warriors & 2064.29 & 2019-02-20 & $\\dots$ \\\\\n",
       "\t8 & BASK & NBA & 4253821 & Sacramento Kings & Golden State Warriors & 2400.05 & 2019-02-20 & $\\dots$ \\\\\n",
       "\t9 & BASK & NBA & 4253821 & Sacramento Kings & Golden State Warriors & 2438.19 & 2019-02-20 & $\\dots$ \\\\\n",
       "\t10 & BASK & NBA & 4253821 & Sacramento Kings & Golden State Warriors & 2627.06 & 2019-02-20 & $\\dots$ \\\\\n",
       "\t11 & BASK & NBA & 4253821 & Sacramento Kings & Golden State Warriors & 2664.4 & 2019-02-20 & $\\dots$ \\\\\n",
       "\t12 & BASK & NBA & 4253821 & Sacramento Kings & Golden State Warriors & 2740.32 & 2019-02-20 & $\\dots$ \\\\\n",
       "\t13 & BASK & NBA & 4253821 & Sacramento Kings & Golden State Warriors & 2927.55 & 2019-02-20 & $\\dots$ \\\\\n",
       "\t14 & BASK & NBA & 4253821 & Sacramento Kings & Golden State Warriors & 4468.82 & 2019-02-20 & $\\dots$ \\\\\n",
       "\t15 & BASK & NBA & 4253821 & Sacramento Kings & Golden State Warriors & 5035.77 & 2019-02-20 & $\\dots$ \\\\\n",
       "\t16 & BASK & NBA & 4253821 & Sacramento Kings & Golden State Warriors & 5744.72 & 2019-02-20 & $\\dots$ \\\\\n",
       "\t17 & BASK & NBA & 4253821 & Sacramento Kings & Golden State Warriors & 6837.63 & 2019-02-20 & $\\dots$ \\\\\n",
       "\t18 & BASK & NBA & 4253821 & Sacramento Kings & Golden State Warriors & 7220.73 & 2019-02-20 & $\\dots$ \\\\\n",
       "\t19 & BASK & NBA & 4253821 & Sacramento Kings & Golden State Warriors & 7258.55 & 2019-02-20 & $\\dots$ \\\\\n",
       "\t20 & BASK & NBA & 4253821 & Sacramento Kings & Golden State Warriors & 7333.07 & 2019-02-20 & $\\dots$ \\\\\n",
       "\t21 & BASK & NBA & 4253821 & Sacramento Kings & Golden State Warriors & 7370.69 & 2019-02-20 & $\\dots$ \\\\\n",
       "\t22 & BASK & NBA & 4253821 & Sacramento Kings & Golden State Warriors & 7446.8 & 2019-02-20 & $\\dots$ \\\\\n",
       "\t23 & BASK & NBA & 4253821 & Sacramento Kings & Golden State Warriors & 8237.56 & 2019-02-20 & $\\dots$ \\\\\n",
       "\t24 & BASK & NBA & 4253821 & Sacramento Kings & Golden State Warriors & 8311.39 & 2019-02-20 & $\\dots$ \\\\\n",
       "\t25 & BASK & NBA & 4253821 & Sacramento Kings & Golden State Warriors & 8348.91 & 2019-02-20 & $\\dots$ \\\\\n",
       "\t26 & BASK & NBA & 4253821 & Sacramento Kings & Golden State Warriors & 8387.29 & 2019-02-20 & $\\dots$ \\\\\n",
       "\t27 & BASK & NBA & 4253821 & Sacramento Kings & Golden State Warriors & 8425.02 & 2019-02-20 & $\\dots$ \\\\\n",
       "\t28 & BASK & NBA & 4253821 & Sacramento Kings & Golden State Warriors & 8463.2 & 2019-02-20 & $\\dots$ \\\\\n",
       "\t29 & BASK & NBA & 4253821 & Sacramento Kings & Golden State Warriors & 8500.75 & 2019-02-20 & $\\dots$ \\\\\n",
       "\t30 & BASK & NBA & 4253821 & Sacramento Kings & Golden State Warriors & 9625.4 & 2019-02-20 & $\\dots$ \\\\\n",
       "\t$\\dots$ & $\\dots$ & $\\dots$ & $\\dots$ & $\\dots$ & $\\dots$ & $\\dots$ & $\\dots$ &  \\\\\n",
       "\\end{tabular}\n"
      ],
      "text/plain": [
       "668×35 DataFrame. Omitted printing of 30 columns\n",
       "│ Row │ sport  │ league │ game_id │ a_team           │ h_team                │\n",
       "│     │ \u001b[90mString\u001b[39m │ \u001b[90mString\u001b[39m │ \u001b[90mInt64\u001b[39m   │ \u001b[90mString\u001b[39m           │ \u001b[90mString\u001b[39m                │\n",
       "├─────┼────────┼────────┼─────────┼──────────────────┼───────────────────────┤\n",
       "│ 1   │ BASK   │ NBA    │ 4253821 │ Sacramento Kings │ Golden State Warriors │\n",
       "│ 2   │ BASK   │ NBA    │ 4253821 │ Sacramento Kings │ Golden State Warriors │\n",
       "│ 3   │ BASK   │ NBA    │ 4253821 │ Sacramento Kings │ Golden State Warriors │\n",
       "│ 4   │ BASK   │ NBA    │ 4253821 │ Sacramento Kings │ Golden State Warriors │\n",
       "│ 5   │ BASK   │ NBA    │ 4253821 │ Sacramento Kings │ Golden State Warriors │\n",
       "│ 6   │ BASK   │ NBA    │ 4253821 │ Sacramento Kings │ Golden State Warriors │\n",
       "│ 7   │ BASK   │ NBA    │ 4253821 │ Sacramento Kings │ Golden State Warriors │\n",
       "│ 8   │ BASK   │ NBA    │ 4253821 │ Sacramento Kings │ Golden State Warriors │\n",
       "│ 9   │ BASK   │ NBA    │ 4253821 │ Sacramento Kings │ Golden State Warriors │\n",
       "│ 10  │ BASK   │ NBA    │ 4253821 │ Sacramento Kings │ Golden State Warriors │\n",
       "⋮\n",
       "│ 658 │ BASK   │ NBA    │ 4253821 │ Sacramento Kings │ Golden State Warriors │\n",
       "│ 659 │ BASK   │ NBA    │ 4253821 │ Sacramento Kings │ Golden State Warriors │\n",
       "│ 660 │ BASK   │ NBA    │ 4253821 │ Sacramento Kings │ Golden State Warriors │\n",
       "│ 661 │ BASK   │ NBA    │ 4253821 │ Sacramento Kings │ Golden State Warriors │\n",
       "│ 662 │ BASK   │ NBA    │ 4253821 │ Sacramento Kings │ Golden State Warriors │\n",
       "│ 663 │ BASK   │ NBA    │ 4253821 │ Sacramento Kings │ Golden State Warriors │\n",
       "│ 664 │ BASK   │ NBA    │ 4253821 │ Sacramento Kings │ Golden State Warriors │\n",
       "│ 665 │ BASK   │ NBA    │ 4253821 │ Sacramento Kings │ Golden State Warriors │\n",
       "│ 666 │ BASK   │ NBA    │ 4253821 │ Sacramento Kings │ Golden State Warriors │\n",
       "│ 667 │ BASK   │ NBA    │ 4253821 │ Sacramento Kings │ Golden State Warriors │\n",
       "│ 668 │ BASK   │ NBA    │ 4253821 │ Sacramento Kings │ Golden State Warriors │"
      ]
     },
     "execution_count": 34,
     "metadata": {},
     "output_type": "execute_result"
    }
   ],
   "source": []
  },
  {
   "cell_type": "code",
   "execution_count": null,
   "metadata": {},
   "outputs": [],
   "source": []
  }
 ],
 "metadata": {
  "kernelspec": {
   "display_name": "Julia 1.1.1",
   "language": "julia",
   "name": "julia-1.1"
  },
  "language_info": {
   "file_extension": ".jl",
   "mimetype": "application/julia",
   "name": "julia",
   "version": "1.1.1"
  }
 },
 "nbformat": 4,
 "nbformat_minor": 2
}
