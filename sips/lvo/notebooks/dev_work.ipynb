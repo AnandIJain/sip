{
 "cells": [
  {
   "cell_type": "code",
   "execution_count": 2,
   "metadata": {},
   "outputs": [],
   "source": [
    "import requests as r\n",
    "import bs4"
   ]
  },
  {
   "cell_type": "code",
   "execution_count": 3,
   "metadata": {},
   "outputs": [],
   "source": [
    "p = r.get('http://www.vegasinsider.com/odds/').text\n",
    "s = bs4.BeautifulSoup(p)"
   ]
  },
  {
   "cell_type": "code",
   "execution_count": 34,
   "metadata": {},
   "outputs": [],
   "source": [
    "content = s.find('td', {'class' : 'main-content-cell'})\n",
    "# cols = s.find_all('td', {'colspan', 2})\n",
    "# print(len(cols))\n",
    "global_odds = s.find('img', {'alt' : 'Free Global Sportsbook Betting Odds and Lines'}).find_parent('tbody')\n",
    "lv_odds = s.find('img', {'alt' : 'Free Las Vegas Sportsbook Betting Odds and Lines'}).find_parent('tbody')\n"
   ]
  },
  {
   "cell_type": "code",
   "execution_count": 35,
   "metadata": {},
   "outputs": [],
   "source": [
    "odds_links = [link['href'] for link in global_odds.find_all('a') + lv_odds.find_all('a')]"
   ]
  },
  {
   "cell_type": "code",
   "execution_count": 13,
   "metadata": {},
   "outputs": [
    {
     "name": "stdout",
     "output_type": "stream",
     "text": [
      "<tbody>\n",
      "<tr>\n",
      "<td class=\"a3\" height=\"20\" valign=\"top\">\n",
      "<span class=\"newsText\">Free Betting Odds</span> <span style=\"font-size: 10pt; font-weight: bold; color: #c48f1b\">· </span><a class=\"newsText\" href=\"/nfl/odds/futures/\" title=\"Futures and Future Betting Odds\">Future Odds</a><span style=\"font-size: 10pt; font-weight: bold; color: #c48f1b\"> · </span><a class=\"newsText\" href=\"/live-odds/signup/\" target=\"_blank\" title=\"Live Odds, Real-time Betting Lines\">Live Odds</a></td>\n",
      "</tr>\n",
      "</tbody>\n"
     ]
    }
   ],
   "source": [
    "lv = s.find('td', {'valign':'top'})\n",
    "print(lv.table.tbody)"
   ]
  }
 ],
 "metadata": {
  "kernelspec": {
   "display_name": "Python 3",
   "language": "python",
   "name": "python3"
  },
  "language_info": {
   "codemirror_mode": {
    "name": "ipython",
    "version": 3
   },
   "file_extension": ".py",
   "mimetype": "text/x-python",
   "name": "python",
   "nbconvert_exporter": "python",
   "pygments_lexer": "ipython3",
   "version": "3.6.8"
  }
 },
 "nbformat": 4,
 "nbformat_minor": 2
}
